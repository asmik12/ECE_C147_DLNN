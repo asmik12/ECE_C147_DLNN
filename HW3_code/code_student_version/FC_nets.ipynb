{
 "cells": [
  {
   "cell_type": "markdown",
   "metadata": {},
   "source": [
    "# Fully connected networks\n",
    "\n",
    "In the previous notebook, you implemented a simple two-layer neural network class.  However, this class is not modular.  If you wanted to change the number of layers, you would need to write a new loss and gradient function.  If you wanted to optimize the network with different optimizers, you'd need to write new training functions.  If you wanted to incorporate regularizations, you'd have to modify the loss and gradient function.  \n",
    "\n",
    "Instead of having to modify functions each time, for the rest of the class, we'll work in a more modular framework where we define forward and backward layers that calculate losses and gradients respectively.  Since the forward and backward layers share intermediate values that are useful for calculating both the loss and the gradient, we'll also have these function return \"caches\" which store useful intermediate values.\n",
    "\n",
    "The goal is that through this modular design, we can build different sized neural networks for various applications.\n",
    "\n",
    "In this HW #3, we'll define the basic architecture, and in HW #4, we'll build on this framework to implement different optimizers and regularizations (like BatchNorm and Dropout).\n",
    "\n"
   ]
  },
  {
   "cell_type": "markdown",
   "metadata": {},
   "source": [
    "## Modular layers\n",
    "\n",
    "This notebook will build modular layers in the following manner.  First, there will be a forward pass for a given layer with inputs (`x`) and return the output of that layer (`out`) as well as cached variables (`cache`) that will be used to calculate the gradient in the backward pass.\n",
    "\n",
    "```python\n",
    "def layer_forward(x, w):\n",
    "  \"\"\" Receive inputs x and weights w \"\"\"\n",
    "  # Do some computations ...\n",
    "  z = # ... some intermediate value\n",
    "  # Do some more computations ...\n",
    "  out = # the output\n",
    "   \n",
    "  cache = (x, w, z, out) # Values we need to compute gradients\n",
    "   \n",
    "  return out, cache\n",
    "```\n",
    "\n",
    "The backward pass will receive upstream derivatives and the `cache` object, and will return gradients with respect to the inputs and weights, like this:\n",
    "\n",
    "```python\n",
    "def layer_backward(dout, cache):\n",
    "  \"\"\"\n",
    "  Receive derivative of loss with respect to outputs and cache,\n",
    "  and compute derivative with respect to inputs.\n",
    "  \"\"\"\n",
    "  # Unpack cache values\n",
    "  x, w, z, out = cache\n",
    "  \n",
    "  # Use values in cache to compute derivatives\n",
    "  dx = # Derivative of loss with respect to x\n",
    "  dw = # Derivative of loss with respect to w\n",
    "  \n",
    "  return dx, dw\n",
    "```"
   ]
  },
  {
   "cell_type": "code",
   "execution_count": 1,
   "metadata": {},
   "outputs": [],
   "source": [
    "## Import and setups\n",
    "\n",
    "import time\n",
    "import numpy as np\n",
    "import matplotlib.pyplot as plt\n",
    "from nndl.fc_net import *\n",
    "from utils.data_utils import get_CIFAR10_data\n",
    "from utils.gradient_check import eval_numerical_gradient, eval_numerical_gradient_array\n",
    "from utils.solver import Solver\n",
    "\n",
    "%matplotlib inline\n",
    "plt.rcParams['figure.figsize'] = (10.0, 8.0) # set default size of plots\n",
    "plt.rcParams['image.interpolation'] = 'nearest'\n",
    "plt.rcParams['image.cmap'] = 'gray'\n",
    "\n",
    "# for auto-reloading external modules\n",
    "# see http://stackoverflow.com/questions/1907993/autoreload-of-modules-in-ipython\n",
    "%load_ext autoreload\n",
    "%autoreload 2\n",
    "\n",
    "def rel_error(x, y):\n",
    "  \"\"\" returns relative error \"\"\"\n",
    "  return np.max(np.abs(x - y) / (np.maximum(1e-8, np.abs(x) + np.abs(y))))"
   ]
  },
  {
   "cell_type": "code",
   "execution_count": 2,
   "metadata": {},
   "outputs": [
    {
     "name": "stdout",
     "output_type": "stream",
     "text": [
      "X_train: (49000, 3, 32, 32) \n",
      "y_train: (49000,) \n",
      "X_val: (1000, 3, 32, 32) \n",
      "y_val: (1000,) \n",
      "X_test: (1000, 3, 32, 32) \n",
      "y_test: (1000,) \n"
     ]
    }
   ],
   "source": [
    "# Load the (preprocessed) CIFAR10 data.\n",
    "data = get_CIFAR10_data()\n",
    "for k in data.keys():\n",
    "  print('{}: {} '.format(k, data[k].shape))"
   ]
  },
  {
   "cell_type": "markdown",
   "metadata": {},
   "source": [
    "## Linear layers\n",
    "\n",
    "In this section, we'll implement the forward and backward pass for the linear layers.\n",
    "\n",
    "The linear layer forward pass is the function `affine_forward` in `nndl/layers.py` and the backward pass is `affine_backward`.\n",
    "\n",
    "After you have implemented these, test your implementation by running the cell below."
   ]
  },
  {
   "cell_type": "markdown",
   "metadata": {},
   "source": [
    "### Affine layer forward pass\n",
    "\n",
    "Implement `affine_forward` and then test your code by running the following cell."
   ]
  },
  {
   "cell_type": "code",
   "execution_count": 222,
   "metadata": {},
   "outputs": [
    {
     "name": "stdout",
     "output_type": "stream",
     "text": [
      "Testing affine_forward function:\n",
      "difference: 9.769849468192957e-10\n"
     ]
    }
   ],
   "source": [
    "# Test the affine_forward function\n",
    "\n",
    "num_inputs = 2\n",
    "input_shape = (4, 5, 6)\n",
    "output_dim = 3\n",
    "\n",
    "input_size = num_inputs * np.prod(input_shape)\n",
    "weight_size = output_dim * np.prod(input_shape)\n",
    "\n",
    "x = np.linspace(-0.1, 0.5, num=input_size).reshape(num_inputs, *input_shape)\n",
    "w = np.linspace(-0.2, 0.3, num=weight_size).reshape(np.prod(input_shape), output_dim)\n",
    "b = np.linspace(-0.3, 0.1, num=output_dim)\n",
    "\n",
    "out, _ = affine_forward(x, w, b)\n",
    "correct_out = np.array([[ 1.49834967,  1.70660132,  1.91485297],\n",
    "                        [ 3.25553199,  3.5141327,   3.77273342]])\n",
    "\n",
    "# Compare your output with ours. The error should be around 1e-9.\n",
    "print('Testing affine_forward function:')\n",
    "print('difference: {}'.format(rel_error(out, correct_out)))"
   ]
  },
  {
   "cell_type": "markdown",
   "metadata": {},
   "source": [
    "### Affine layer backward pass\n",
    "\n",
    "Implement `affine_backward` and then test your code by running the following cell."
   ]
  },
  {
   "cell_type": "code",
   "execution_count": 223,
   "metadata": {},
   "outputs": [
    {
     "name": "stdout",
     "output_type": "stream",
     "text": [
      "Testing affine_backward function:\n",
      "dx error: 5.3402513095032365e-11\n",
      "dw error: 2.3208333557546674e-10\n",
      "db error: 4.925573741802885e-12\n"
     ]
    }
   ],
   "source": [
    "# Test the affine_backward function\n",
    "\n",
    "x = np.random.randn(10, 2, 3)\n",
    "w = np.random.randn(6, 5)\n",
    "b = np.random.randn(5)\n",
    "dout = np.random.randn(10, 5)\n",
    "\n",
    "dx_num = eval_numerical_gradient_array(lambda x: affine_forward(x, w, b)[0], x, dout)\n",
    "dw_num = eval_numerical_gradient_array(lambda w: affine_forward(x, w, b)[0], w, dout)\n",
    "db_num = eval_numerical_gradient_array(lambda b: affine_forward(x, w, b)[0], b, dout)\n",
    "\n",
    "_, cache = affine_forward(x, w, b)\n",
    "dx, dw, db = affine_backward(dout, cache)\n",
    "\n",
    "# The error should be around 1e-10\n",
    "print('Testing affine_backward function:')\n",
    "print('dx error: {}'.format(rel_error(dx_num, dx)))\n",
    "print('dw error: {}'.format(rel_error(dw_num, dw)))\n",
    "print('db error: {}'.format(rel_error(db_num, db)))"
   ]
  },
  {
   "cell_type": "markdown",
   "metadata": {},
   "source": [
    "## Activation layers\n",
    "\n",
    "In this section you'll implement the ReLU activation."
   ]
  },
  {
   "cell_type": "markdown",
   "metadata": {},
   "source": [
    "### ReLU forward pass\n",
    "\n",
    "Implement the `relu_forward` function in `nndl/layers.py` and then test your code by running the following cell."
   ]
  },
  {
   "cell_type": "code",
   "execution_count": 224,
   "metadata": {},
   "outputs": [
    {
     "name": "stdout",
     "output_type": "stream",
     "text": [
      "Testing relu_forward function:\n",
      "difference: 4.999999798022158e-08\n"
     ]
    }
   ],
   "source": [
    "# Test the relu_forward function\n",
    "\n",
    "x = np.linspace(-0.5, 0.5, num=12).reshape(3, 4)\n",
    "\n",
    "out, _ = relu_forward(x)\n",
    "correct_out = np.array([[ 0.,          0.,          0.,          0.,        ],\n",
    "                        [ 0.,          0.,          0.04545455,  0.13636364,],\n",
    "                        [ 0.22727273,  0.31818182,  0.40909091,  0.5,       ]])\n",
    "\n",
    "# Compare your output with ours. The error should be around 1e-8\n",
    "print('Testing relu_forward function:')\n",
    "print('difference: {}'.format(rel_error(out, correct_out)))"
   ]
  },
  {
   "cell_type": "markdown",
   "metadata": {},
   "source": [
    "### ReLU backward pass\n",
    "Implement the `relu_backward` function in `nndl/layers.py` and then test your code by running the following cell."
   ]
  },
  {
   "cell_type": "code",
   "execution_count": 225,
   "metadata": {},
   "outputs": [
    {
     "name": "stdout",
     "output_type": "stream",
     "text": [
      "Testing relu_backward function:\n",
      "dx error: 3.275602256340595e-12\n"
     ]
    }
   ],
   "source": [
    "x = np.random.randn(10, 10)\n",
    "dout = np.random.randn(*x.shape)\n",
    "\n",
    "dx_num = eval_numerical_gradient_array(lambda x: relu_forward(x)[0], x, dout)\n",
    "\n",
    "_, cache = relu_forward(x)\n",
    "dx = relu_backward(dout, cache)\n",
    "\n",
    "# The error should be around 1e-12\n",
    "print('Testing relu_backward function:')\n",
    "print('dx error: {}'.format(rel_error(dx_num, dx)))"
   ]
  },
  {
   "cell_type": "markdown",
   "metadata": {},
   "source": [
    "## Combining the affine and ReLU layers\n",
    "\n",
    "Often times, an affine layer will be followed by a ReLU layer. So let's make one that puts them together.  Layers that are combined are stored in `nndl/layer_utils.py`.  "
   ]
  },
  {
   "cell_type": "markdown",
   "metadata": {},
   "source": [
    "### Affine-ReLU layers\n",
    "We've implemented `affine_relu_forward()` and `affine_relu_backward` in ``nndl/layer_utils.py``.  Take a look at them to make sure you understand what's going on.  Then run the following cell to ensure its implemented correctly."
   ]
  },
  {
   "cell_type": "code",
   "execution_count": 226,
   "metadata": {},
   "outputs": [
    {
     "name": "stdout",
     "output_type": "stream",
     "text": [
      "Testing affine_relu_forward and affine_relu_backward:\n",
      "dx error: 3.225076970180271e-10\n",
      "dw error: 1.5452017996372001e-10\n",
      "db error: 2.5479984023291224e-11\n"
     ]
    }
   ],
   "source": [
    "from nndl.layer_utils import affine_relu_forward, affine_relu_backward\n",
    "\n",
    "x = np.random.randn(2, 3, 4)\n",
    "w = np.random.randn(12, 10)\n",
    "b = np.random.randn(10)\n",
    "dout = np.random.randn(2, 10)\n",
    "\n",
    "out, cache = affine_relu_forward(x, w, b)\n",
    "dx, dw, db = affine_relu_backward(dout, cache)\n",
    "\n",
    "dx_num = eval_numerical_gradient_array(lambda x: affine_relu_forward(x, w, b)[0], x, dout)\n",
    "dw_num = eval_numerical_gradient_array(lambda w: affine_relu_forward(x, w, b)[0], w, dout)\n",
    "db_num = eval_numerical_gradient_array(lambda b: affine_relu_forward(x, w, b)[0], b, dout)\n",
    "\n",
    "print('Testing affine_relu_forward and affine_relu_backward:')\n",
    "print('dx error: {}'.format(rel_error(dx_num, dx)))\n",
    "print('dw error: {}'.format(rel_error(dw_num, dw)))\n",
    "print('db error: {}'.format(rel_error(db_num, db)))"
   ]
  },
  {
   "cell_type": "markdown",
   "metadata": {},
   "source": [
    "## Softmax loss\n",
    "\n",
    "You've already implemented it, so we have written it in `layers.py`.  The following code will ensure they are working correctly."
   ]
  },
  {
   "cell_type": "code",
   "execution_count": 227,
   "metadata": {},
   "outputs": [
    {
     "name": "stdout",
     "output_type": "stream",
     "text": [
      "\n",
      "Testing softmax_loss:\n",
      "loss: 2.302507179438954\n",
      "dx error: 8.3524543589868e-09\n"
     ]
    }
   ],
   "source": [
    "num_classes, num_inputs = 10, 50\n",
    "x = 0.001 * np.random.randn(num_inputs, num_classes)\n",
    "y = np.random.randint(num_classes, size=num_inputs)\n",
    "\n",
    "\n",
    "\n",
    "dx_num = eval_numerical_gradient(lambda x: softmax_loss(x, y)[0], x, verbose=False)\n",
    "loss, dx = softmax_loss(x, y)\n",
    "\n",
    "# Test softmax_loss function. Loss should be 2.3 and dx error should be 1e-8\n",
    "print('\\nTesting softmax_loss:')\n",
    "print('loss: {}'.format(loss))\n",
    "print('dx error: {}'.format(rel_error(dx_num, dx)))"
   ]
  },
  {
   "cell_type": "markdown",
   "metadata": {},
   "source": [
    "## Implementation of a two-layer NN\n",
    "\n",
    "In `nndl/fc_net.py`, implement the class `TwoLayerNet` which uses the layers you made here.  When you have finished, the following cell will test your implementation."
   ]
  },
  {
   "cell_type": "code",
   "execution_count": 228,
   "metadata": {},
   "outputs": [
    {
     "name": "stdout",
     "output_type": "stream",
     "text": [
      "Testing initialization ... \n",
      "Testing test-time forward pass ... \n",
      "Testing training loss (no regularization)\n",
      "Running numeric gradient check with reg = 0.0\n",
      "W1 relative error: 1.8336562786695002e-08\n",
      "W2 relative error: 3.201560569143183e-10\n",
      "b1 relative error: 9.828315204644842e-09\n",
      "b2 relative error: 4.329134954569865e-10\n",
      "Running numeric gradient check with reg = 0.7\n",
      "W1 relative error: 2.5279152310200606e-07\n",
      "W2 relative error: 7.976652806155026e-08\n",
      "b1 relative error: 1.564679947504764e-08\n",
      "b2 relative error: 9.089617896905665e-10\n"
     ]
    }
   ],
   "source": [
    "N, D, H, C = 3, 5, 50, 7\n",
    "X = np.random.randn(N, D)\n",
    "y = np.random.randint(C, size=N)\n",
    "\n",
    "std = 1e-2\n",
    "model = TwoLayerNet(input_dim=D, hidden_dims=H, num_classes=C, weight_scale=std)\n",
    "\n",
    "print('Testing initialization ... ')\n",
    "W1_std = abs(model.params['W1'].std() - std)\n",
    "b1 = model.params['b1']\n",
    "W2_std = abs(model.params['W2'].std() - std)\n",
    "b2 = model.params['b2']\n",
    "assert W1_std < std / 10, 'First layer weights do not seem right'\n",
    "assert np.all(b1 == 0), 'First layer biases do not seem right'\n",
    "assert W2_std < std / 10, 'Second layer weights do not seem right'\n",
    "assert np.all(b2 == 0), 'Second layer biases do not seem right'\n",
    "\n",
    "print('Testing test-time forward pass ... ')\n",
    "model.params['W1'] = np.linspace(-0.7, 0.3, num=D*H).reshape(D, H)\n",
    "model.params['b1'] = np.linspace(-0.1, 0.9, num=H)\n",
    "model.params['W2'] = np.linspace(-0.3, 0.4, num=H*C).reshape(H, C)\n",
    "model.params['b2'] = np.linspace(-0.9, 0.1, num=C)\n",
    "X = np.linspace(-5.5, 4.5, num=N*D).reshape(D, N).T\n",
    "scores = model.loss(X)\n",
    "correct_scores = np.asarray(\n",
    "  [[11.53165108,  12.2917344,   13.05181771,  13.81190102,  14.57198434, 15.33206765,  16.09215096],\n",
    "   [12.05769098,  12.74614105,  13.43459113,  14.1230412,   14.81149128, 15.49994135,  16.18839143],\n",
    "   [12.58373087,  13.20054771,  13.81736455,  14.43418138,  15.05099822, 15.66781506,  16.2846319 ]])\n",
    "scores_diff = np.abs(scores - correct_scores).sum()\n",
    "assert scores_diff < 1e-6, 'Problem with test-time forward pass'\n",
    "\n",
    "print('Testing training loss (no regularization)')\n",
    "y = np.asarray([0, 5, 1])\n",
    "loss, grads = model.loss(X, y)\n",
    "correct_loss = 3.4702243556\n",
    "assert abs(loss - correct_loss) < 1e-10, 'Problem with training-time loss'\n",
    "\n",
    "model.reg = 1.0\n",
    "loss, grads = model.loss(X, y)\n",
    "correct_loss = 26.5948426952\n",
    "assert abs(loss - correct_loss) < 1e-10, 'Problem with regularization loss'\n",
    "\n",
    "for reg in [0.0, 0.7]:\n",
    "  print('Running numeric gradient check with reg = {}'.format(reg))\n",
    "  model.reg = reg\n",
    "  loss, grads = model.loss(X, y)\n",
    "\n",
    "  for name in sorted(grads):\n",
    "    f = lambda _: model.loss(X, y)[0]\n",
    "    grad_num = eval_numerical_gradient(f, model.params[name], verbose=False)\n",
    "    print('{} relative error: {}'.format(name, rel_error(grad_num, grads[name])))"
   ]
  },
  {
   "cell_type": "markdown",
   "metadata": {},
   "source": [
    "## Solver \n",
    "\n",
    "We will now use the utils Solver class to train these networks.  Familiarize yourself with the API in `utils/solver.py`.  After you have done so, declare an instance of a TwoLayerNet with 200 units and then train it with the Solver.  Choose parameters so that your validation accuracy is at least 50%."
   ]
  },
  {
   "cell_type": "code",
   "execution_count": 229,
   "metadata": {
    "scrolled": false
   },
   "outputs": [
    {
     "name": "stdout",
     "output_type": "stream",
     "text": [
      "(Iteration 1 / 4900) loss: 2.308125\n",
      "(Epoch 0 / 10) train acc: 0.157000; val_acc: 0.160000\n",
      "(Iteration 101 / 4900) loss: 1.796203\n",
      "(Iteration 201 / 4900) loss: 1.638219\n",
      "(Iteration 301 / 4900) loss: 1.738862\n",
      "(Iteration 401 / 4900) loss: 1.463411\n",
      "(Epoch 1 / 10) train acc: 0.487000; val_acc: 0.457000\n",
      "(Iteration 501 / 4900) loss: 1.569499\n",
      "(Iteration 601 / 4900) loss: 1.466054\n",
      "(Iteration 701 / 4900) loss: 1.662927\n",
      "(Iteration 801 / 4900) loss: 1.483841\n",
      "(Iteration 901 / 4900) loss: 1.535075\n",
      "(Epoch 2 / 10) train acc: 0.508000; val_acc: 0.466000\n",
      "(Iteration 1001 / 4900) loss: 1.484307\n",
      "(Iteration 1101 / 4900) loss: 1.314777\n",
      "(Iteration 1201 / 4900) loss: 1.513776\n",
      "(Iteration 1301 / 4900) loss: 1.319477\n",
      "(Iteration 1401 / 4900) loss: 1.237183\n",
      "(Epoch 3 / 10) train acc: 0.507000; val_acc: 0.470000\n",
      "(Iteration 1501 / 4900) loss: 1.486611\n",
      "(Iteration 1601 / 4900) loss: 1.173544\n",
      "(Iteration 1701 / 4900) loss: 1.252973\n",
      "(Iteration 1801 / 4900) loss: 1.206435\n",
      "(Iteration 1901 / 4900) loss: 1.289608\n",
      "(Epoch 4 / 10) train acc: 0.551000; val_acc: 0.494000\n",
      "(Iteration 2001 / 4900) loss: 1.153523\n",
      "(Iteration 2101 / 4900) loss: 1.096755\n",
      "(Iteration 2201 / 4900) loss: 1.190091\n",
      "(Iteration 2301 / 4900) loss: 1.451521\n",
      "(Iteration 2401 / 4900) loss: 1.430624\n",
      "(Epoch 5 / 10) train acc: 0.553000; val_acc: 0.490000\n",
      "(Iteration 2501 / 4900) loss: 1.202828\n",
      "(Iteration 2601 / 4900) loss: 1.157723\n",
      "(Iteration 2701 / 4900) loss: 1.471746\n",
      "(Iteration 2801 / 4900) loss: 1.422556\n",
      "(Iteration 2901 / 4900) loss: 1.078021\n",
      "(Epoch 6 / 10) train acc: 0.602000; val_acc: 0.504000\n",
      "(Iteration 3001 / 4900) loss: 1.068471\n",
      "(Iteration 3101 / 4900) loss: 1.215357\n",
      "(Iteration 3201 / 4900) loss: 1.148747\n",
      "(Iteration 3301 / 4900) loss: 1.139838\n",
      "(Iteration 3401 / 4900) loss: 1.129081\n",
      "(Epoch 7 / 10) train acc: 0.585000; val_acc: 0.516000\n",
      "(Iteration 3501 / 4900) loss: 1.299853\n",
      "(Iteration 3601 / 4900) loss: 1.324082\n",
      "(Iteration 3701 / 4900) loss: 1.222542\n",
      "(Iteration 3801 / 4900) loss: 1.158093\n",
      "(Iteration 3901 / 4900) loss: 1.290810\n",
      "(Epoch 8 / 10) train acc: 0.629000; val_acc: 0.531000\n",
      "(Iteration 4001 / 4900) loss: 1.114800\n",
      "(Iteration 4101 / 4900) loss: 1.212374\n",
      "(Iteration 4201 / 4900) loss: 1.052979\n",
      "(Iteration 4301 / 4900) loss: 0.859409\n",
      "(Iteration 4401 / 4900) loss: 0.991457\n",
      "(Epoch 9 / 10) train acc: 0.643000; val_acc: 0.516000\n",
      "(Iteration 4501 / 4900) loss: 1.168741\n",
      "(Iteration 4601 / 4900) loss: 1.078753\n",
      "(Iteration 4701 / 4900) loss: 1.034144\n",
      "(Iteration 4801 / 4900) loss: 0.972784\n",
      "(Epoch 10 / 10) train acc: 0.641000; val_acc: 0.529000\n"
     ]
    }
   ],
   "source": [
    "model = TwoLayerNet()\n",
    "solver = None\n",
    "\n",
    "# ================================================================ #\n",
    "# YOUR CODE HERE:\n",
    "#   Declare an instance of a TwoLayerNet and then train \n",
    "#   it with the Solver. Choose hyperparameters so that your validation \n",
    "#   accuracy is at least 50%.  We won't have you optimize this further\n",
    "#   since you did it in the previous notebook.\n",
    "#\n",
    "# ================================================================ #\n",
    "input_size = 32 * 32 * 3\n",
    "hidden_size = 200\n",
    "num_classes = 10\n",
    "\n",
    "model = TwoLayerNet(input_size, hidden_size, num_classes)\n",
    "\n",
    "solver = Solver(model, data,\n",
    "                update_rule='sgd',\n",
    "                optim_config={\n",
    "                    'learning_rate': 1e-3,\n",
    "                },\n",
    "                lr_decay=0.95,\n",
    "                num_epochs=10, batch_size=100,\n",
    "                print_every=100)\n",
    "solver.train()\n",
    "\n",
    "# ================================================================ #\n",
    "# END YOUR CODE HERE\n",
    "# ================================================================ #"
   ]
  },
  {
   "cell_type": "code",
   "execution_count": 230,
   "metadata": {},
   "outputs": [
    {
     "data": {
      "image/png": "[encoded data removed]",
      "text/plain": [
       "<Figure size 1500x1200 with 2 Axes>"
      ]
     },
     "metadata": {},
     "output_type": "display_data"
    }
   ],
   "source": [
    "# Run this cell to visualize training loss and train / val accuracy\n",
    "\n",
    "plt.subplot(2, 1, 1)\n",
    "plt.title('Training loss')\n",
    "plt.plot(solver.loss_history, 'o')\n",
    "plt.xlabel('Iteration')\n",
    "\n",
    "plt.subplot(2, 1, 2)\n",
    "plt.title('Accuracy')\n",
    "plt.plot(solver.train_acc_history, '-o', label='train')\n",
    "plt.plot(solver.val_acc_history, '-o', label='val')\n",
    "plt.plot([0.5] * len(solver.val_acc_history), 'k--')\n",
    "plt.xlabel('Epoch')\n",
    "plt.legend(loc='lower right')\n",
    "plt.gcf().set_size_inches(15, 12)\n",
    "plt.show()"
   ]
  },
  {
   "cell_type": "markdown",
   "metadata": {},
   "source": [
    "## Multilayer Neural Network\n",
    "\n",
    "Now, we implement a multi-layer neural network.\n",
    "\n",
    "Read through the `FullyConnectedNet` class in the file `nndl/fc_net.py`.\n",
    "\n",
    "Implement the initialization, the forward pass, and the backward pass.  There will be lines for batchnorm and dropout layers and caches; ignore these all for now.  That'll be in HW #4."
   ]
  },
  {
   "cell_type": "code",
   "execution_count": 231,
   "metadata": {},
   "outputs": [
    {
     "name": "stdout",
     "output_type": "stream",
     "text": [
      "Running check with reg = 0\n",
      "Initial loss: 2.2824397795638394\n",
      "W1 relative error: 3.385588792853383e-08\n",
      "W2 relative error: 1.745580441710187e-08\n",
      "b1 relative error: 3.9282974930461194e-09\n",
      "b2 relative error: 2.4364448559379457e-10\n",
      "Running check with reg = 3.14\n",
      "Initial loss: 4.056610231475336\n",
      "W1 relative error: 2.8488151530378096e-08\n",
      "W2 relative error: 1.0847077801386915e-08\n",
      "b1 relative error: 4.869937863453581e-08\n",
      "b2 relative error: 3.0565498748500757e-10\n"
     ]
    }
   ],
   "source": [
    "N, D, H1, H2, C = 2, 15, 20, 30, 10\n",
    "X = np.random.randn(N, D)\n",
    "y = np.random.randint(C, size=(N,))\n",
    "\n",
    "for reg in [0, 3.14]:\n",
    "  print('Running check with reg = {}'.format(reg))\n",
    "  model = FullyConnectedNet([H1, H2], input_dim=D, num_classes=C,\n",
    "                            reg=reg, weight_scale=5e-2, dtype=np.float64)\n",
    "\n",
    "  loss, grads = model.loss(X, y)\n",
    "  print('Initial loss: {}'.format(loss))\n",
    "\n",
    "  for name in sorted(grads):\n",
    "    f = lambda _: model.loss(X, y)[0]\n",
    "    grad_num = eval_numerical_gradient(f, model.params[name], verbose=False, h=1e-5)\n",
    "    print('{} relative error: {}'.format(name, rel_error(grad_num, grads[name])))"
   ]
  },
  {
   "cell_type": "code",
   "execution_count": 52,
   "metadata": {},
   "outputs": [
    {
     "name": "stdout",
     "output_type": "stream",
     "text": [
      "0.001\n",
      "0.001\n",
      "(Iteration 1 / 400) loss: 2.301567\n",
      "(Epoch 0 / 200) train acc: 0.200000; val_acc: 0.122000\n",
      "(Epoch 1 / 200) train acc: 0.280000; val_acc: 0.156000\n",
      "(Epoch 2 / 200) train acc: 0.320000; val_acc: 0.174000\n",
      "(Epoch 3 / 200) train acc: 0.360000; val_acc: 0.175000\n",
      "(Epoch 4 / 200) train acc: 0.300000; val_acc: 0.174000\n",
      "(Epoch 5 / 200) train acc: 0.380000; val_acc: 0.172000\n",
      "(Iteration 11 / 400) loss: 2.094880\n",
      "(Epoch 6 / 200) train acc: 0.340000; val_acc: 0.183000\n",
      "(Epoch 7 / 200) train acc: 0.360000; val_acc: 0.170000\n",
      "(Epoch 8 / 200) train acc: 0.540000; val_acc: 0.186000\n",
      "(Epoch 9 / 200) train acc: 0.500000; val_acc: 0.182000\n",
      "(Epoch 10 / 200) train acc: 0.540000; val_acc: 0.188000\n",
      "(Iteration 21 / 400) loss: 1.669344\n",
      "(Epoch 11 / 200) train acc: 0.600000; val_acc: 0.199000\n",
      "(Epoch 12 / 200) train acc: 0.580000; val_acc: 0.175000\n",
      "(Epoch 13 / 200) train acc: 0.660000; val_acc: 0.180000\n",
      "(Epoch 14 / 200) train acc: 0.620000; val_acc: 0.181000\n",
      "(Epoch 15 / 200) train acc: 0.620000; val_acc: 0.181000\n",
      "(Iteration 31 / 400) loss: 1.006322\n",
      "(Epoch 16 / 200) train acc: 0.660000; val_acc: 0.195000\n",
      "(Epoch 17 / 200) train acc: 0.720000; val_acc: 0.208000\n",
      "(Epoch 18 / 200) train acc: 0.700000; val_acc: 0.205000\n",
      "(Epoch 19 / 200) train acc: 0.720000; val_acc: 0.196000\n",
      "(Epoch 20 / 200) train acc: 0.720000; val_acc: 0.200000\n",
      "(Iteration 41 / 400) loss: 1.310828\n",
      "(Epoch 21 / 200) train acc: 0.720000; val_acc: 0.195000\n",
      "(Epoch 22 / 200) train acc: 0.720000; val_acc: 0.204000\n",
      "(Epoch 23 / 200) train acc: 0.720000; val_acc: 0.213000\n",
      "(Epoch 24 / 200) train acc: 0.740000; val_acc: 0.197000\n",
      "(Epoch 25 / 200) train acc: 0.740000; val_acc: 0.195000\n",
      "(Iteration 51 / 400) loss: 0.556570\n",
      "(Epoch 26 / 200) train acc: 0.800000; val_acc: 0.205000\n",
      "(Epoch 27 / 200) train acc: 0.800000; val_acc: 0.207000\n",
      "(Epoch 28 / 200) train acc: 0.800000; val_acc: 0.195000\n",
      "(Epoch 29 / 200) train acc: 0.800000; val_acc: 0.200000\n",
      "(Epoch 30 / 200) train acc: 0.800000; val_acc: 0.197000\n",
      "(Iteration 61 / 400) loss: 0.672553\n",
      "(Epoch 31 / 200) train acc: 0.800000; val_acc: 0.191000\n",
      "(Epoch 32 / 200) train acc: 0.800000; val_acc: 0.188000\n",
      "(Epoch 33 / 200) train acc: 0.800000; val_acc: 0.185000\n",
      "(Epoch 34 / 200) train acc: 0.800000; val_acc: 0.185000\n",
      "(Epoch 35 / 200) train acc: 0.800000; val_acc: 0.184000\n",
      "(Iteration 71 / 400) loss: 0.398408\n",
      "(Epoch 36 / 200) train acc: 0.820000; val_acc: 0.187000\n",
      "(Epoch 37 / 200) train acc: 0.820000; val_acc: 0.190000\n",
      "(Epoch 38 / 200) train acc: 0.840000; val_acc: 0.185000\n",
      "(Epoch 39 / 200) train acc: 0.840000; val_acc: 0.178000\n",
      "(Epoch 40 / 200) train acc: 0.820000; val_acc: 0.179000\n",
      "(Iteration 81 / 400) loss: 0.630361\n",
      "(Epoch 41 / 200) train acc: 0.860000; val_acc: 0.175000\n",
      "(Epoch 42 / 200) train acc: 0.860000; val_acc: 0.181000\n",
      "(Epoch 43 / 200) train acc: 0.840000; val_acc: 0.180000\n",
      "(Epoch 44 / 200) train acc: 0.860000; val_acc: 0.175000\n",
      "(Epoch 45 / 200) train acc: 0.860000; val_acc: 0.175000\n",
      "(Iteration 91 / 400) loss: 0.570340\n",
      "(Epoch 46 / 200) train acc: 0.900000; val_acc: 0.178000\n",
      "(Epoch 47 / 200) train acc: 0.900000; val_acc: 0.179000\n",
      "(Epoch 48 / 200) train acc: 0.900000; val_acc: 0.176000\n",
      "(Epoch 49 / 200) train acc: 0.920000; val_acc: 0.173000\n",
      "(Epoch 50 / 200) train acc: 0.920000; val_acc: 0.180000\n",
      "(Iteration 101 / 400) loss: 0.344357\n",
      "(Epoch 51 / 200) train acc: 0.920000; val_acc: 0.180000\n",
      "(Epoch 52 / 200) train acc: 0.920000; val_acc: 0.183000\n",
      "(Epoch 53 / 200) train acc: 0.920000; val_acc: 0.186000\n",
      "(Epoch 54 / 200) train acc: 0.920000; val_acc: 0.177000\n",
      "(Epoch 55 / 200) train acc: 0.920000; val_acc: 0.177000\n",
      "(Iteration 111 / 400) loss: 0.372205\n",
      "(Epoch 56 / 200) train acc: 0.920000; val_acc: 0.179000\n",
      "(Epoch 57 / 200) train acc: 0.920000; val_acc: 0.176000\n",
      "(Epoch 58 / 200) train acc: 0.920000; val_acc: 0.175000\n",
      "(Epoch 59 / 200) train acc: 0.920000; val_acc: 0.174000\n",
      "(Epoch 60 / 200) train acc: 0.920000; val_acc: 0.180000\n",
      "(Iteration 121 / 400) loss: 0.211838\n",
      "(Epoch 61 / 200) train acc: 0.920000; val_acc: 0.171000\n",
      "(Epoch 62 / 200) train acc: 0.920000; val_acc: 0.176000\n",
      "(Epoch 63 / 200) train acc: 0.920000; val_acc: 0.177000\n",
      "(Epoch 64 / 200) train acc: 0.920000; val_acc: 0.179000\n",
      "(Epoch 65 / 200) train acc: 0.940000; val_acc: 0.178000\n",
      "(Iteration 131 / 400) loss: 0.207755\n",
      "(Epoch 66 / 200) train acc: 0.940000; val_acc: 0.178000\n",
      "(Epoch 67 / 200) train acc: 0.920000; val_acc: 0.175000\n",
      "(Epoch 68 / 200) train acc: 0.920000; val_acc: 0.174000\n",
      "(Epoch 69 / 200) train acc: 0.940000; val_acc: 0.179000\n",
      "(Epoch 70 / 200) train acc: 0.940000; val_acc: 0.178000\n",
      "(Iteration 141 / 400) loss: 0.301491\n",
      "(Epoch 71 / 200) train acc: 0.940000; val_acc: 0.176000\n",
      "(Epoch 72 / 200) train acc: 0.960000; val_acc: 0.173000\n",
      "(Epoch 73 / 200) train acc: 0.960000; val_acc: 0.172000\n",
      "(Epoch 74 / 200) train acc: 0.960000; val_acc: 0.178000\n",
      "(Epoch 75 / 200) train acc: 0.960000; val_acc: 0.177000\n",
      "(Iteration 151 / 400) loss: 0.013398\n",
      "(Epoch 76 / 200) train acc: 0.960000; val_acc: 0.176000\n",
      "(Epoch 77 / 200) train acc: 0.940000; val_acc: 0.177000\n",
      "(Epoch 78 / 200) train acc: 0.960000; val_acc: 0.177000\n",
      "(Epoch 79 / 200) train acc: 0.960000; val_acc: 0.174000\n",
      "(Epoch 80 / 200) train acc: 0.960000; val_acc: 0.178000\n",
      "(Iteration 161 / 400) loss: 0.289375\n",
      "(Epoch 81 / 200) train acc: 0.960000; val_acc: 0.177000\n",
      "(Epoch 82 / 200) train acc: 0.960000; val_acc: 0.178000\n",
      "(Epoch 83 / 200) train acc: 0.960000; val_acc: 0.174000\n",
      "(Epoch 84 / 200) train acc: 0.960000; val_acc: 0.177000\n",
      "(Epoch 85 / 200) train acc: 0.960000; val_acc: 0.173000\n",
      "(Iteration 171 / 400) loss: 0.201713\n",
      "(Epoch 86 / 200) train acc: 0.960000; val_acc: 0.175000\n",
      "(Epoch 87 / 200) train acc: 0.960000; val_acc: 0.177000\n",
      "(Epoch 88 / 200) train acc: 0.960000; val_acc: 0.174000\n",
      "(Epoch 89 / 200) train acc: 0.960000; val_acc: 0.175000\n",
      "(Epoch 90 / 200) train acc: 0.960000; val_acc: 0.175000\n",
      "(Iteration 181 / 400) loss: 0.112293\n",
      "(Epoch 91 / 200) train acc: 0.960000; val_acc: 0.175000\n",
      "(Epoch 92 / 200) train acc: 0.960000; val_acc: 0.175000\n",
      "(Epoch 93 / 200) train acc: 0.960000; val_acc: 0.176000\n",
      "(Epoch 94 / 200) train acc: 0.960000; val_acc: 0.176000\n",
      "(Epoch 95 / 200) train acc: 0.960000; val_acc: 0.180000\n",
      "(Iteration 191 / 400) loss: 0.196857\n",
      "(Epoch 96 / 200) train acc: 0.960000; val_acc: 0.179000\n",
      "(Epoch 97 / 200) train acc: 0.960000; val_acc: 0.181000\n",
      "(Epoch 98 / 200) train acc: 0.960000; val_acc: 0.180000\n",
      "(Epoch 99 / 200) train acc: 0.960000; val_acc: 0.180000\n",
      "(Epoch 100 / 200) train acc: 0.960000; val_acc: 0.180000\n",
      "(Iteration 201 / 400) loss: 0.011236\n",
      "(Epoch 101 / 200) train acc: 0.960000; val_acc: 0.181000\n",
      "(Epoch 102 / 200) train acc: 0.960000; val_acc: 0.181000\n",
      "(Epoch 103 / 200) train acc: 0.960000; val_acc: 0.180000\n",
      "(Epoch 104 / 200) train acc: 0.980000; val_acc: 0.177000\n",
      "(Epoch 105 / 200) train acc: 0.980000; val_acc: 0.177000\n",
      "(Iteration 211 / 400) loss: 0.098681\n",
      "(Epoch 106 / 200) train acc: 0.980000; val_acc: 0.178000\n",
      "(Epoch 107 / 200) train acc: 0.980000; val_acc: 0.179000\n",
      "(Epoch 108 / 200) train acc: 0.980000; val_acc: 0.183000\n",
      "(Epoch 109 / 200) train acc: 0.980000; val_acc: 0.181000\n",
      "(Epoch 110 / 200) train acc: 0.980000; val_acc: 0.180000\n",
      "(Iteration 221 / 400) loss: 0.091803\n",
      "(Epoch 111 / 200) train acc: 0.980000; val_acc: 0.183000\n",
      "(Epoch 112 / 200) train acc: 0.980000; val_acc: 0.182000\n",
      "(Epoch 113 / 200) train acc: 0.980000; val_acc: 0.183000\n",
      "(Epoch 114 / 200) train acc: 0.980000; val_acc: 0.184000\n",
      "(Epoch 115 / 200) train acc: 0.980000; val_acc: 0.181000\n",
      "(Iteration 231 / 400) loss: 0.191478\n",
      "(Epoch 116 / 200) train acc: 0.980000; val_acc: 0.182000\n",
      "(Epoch 117 / 200) train acc: 0.980000; val_acc: 0.181000\n",
      "(Epoch 118 / 200) train acc: 0.980000; val_acc: 0.183000\n",
      "(Epoch 119 / 200) train acc: 0.980000; val_acc: 0.184000\n",
      "(Epoch 120 / 200) train acc: 0.980000; val_acc: 0.183000\n",
      "(Iteration 241 / 400) loss: 0.096830\n",
      "(Epoch 121 / 200) train acc: 0.980000; val_acc: 0.183000\n",
      "(Epoch 122 / 200) train acc: 0.980000; val_acc: 0.183000\n",
      "(Epoch 123 / 200) train acc: 0.980000; val_acc: 0.186000\n",
      "(Epoch 124 / 200) train acc: 0.980000; val_acc: 0.186000\n",
      "(Epoch 125 / 200) train acc: 0.980000; val_acc: 0.185000\n",
      "(Iteration 251 / 400) loss: 0.005851\n",
      "(Epoch 126 / 200) train acc: 0.980000; val_acc: 0.188000\n",
      "(Epoch 127 / 200) train acc: 0.980000; val_acc: 0.187000\n",
      "(Epoch 128 / 200) train acc: 0.980000; val_acc: 0.187000\n",
      "(Epoch 129 / 200) train acc: 0.980000; val_acc: 0.186000\n",
      "(Epoch 130 / 200) train acc: 0.980000; val_acc: 0.187000\n",
      "(Iteration 261 / 400) loss: 0.044749\n",
      "(Epoch 131 / 200) train acc: 0.980000; val_acc: 0.188000\n",
      "(Epoch 132 / 200) train acc: 0.980000; val_acc: 0.185000\n",
      "(Epoch 133 / 200) train acc: 0.980000; val_acc: 0.186000\n",
      "(Epoch 134 / 200) train acc: 0.980000; val_acc: 0.186000\n",
      "(Epoch 135 / 200) train acc: 0.980000; val_acc: 0.186000\n",
      "(Iteration 271 / 400) loss: 0.003407\n",
      "(Epoch 136 / 200) train acc: 0.980000; val_acc: 0.189000\n",
      "(Epoch 137 / 200) train acc: 0.980000; val_acc: 0.188000\n",
      "(Epoch 138 / 200) train acc: 0.980000; val_acc: 0.189000\n",
      "(Epoch 139 / 200) train acc: 1.000000; val_acc: 0.189000\n",
      "(Epoch 140 / 200) train acc: 1.000000; val_acc: 0.184000\n",
      "(Iteration 281 / 400) loss: 0.093469\n",
      "(Epoch 141 / 200) train acc: 1.000000; val_acc: 0.185000\n",
      "(Epoch 142 / 200) train acc: 1.000000; val_acc: 0.184000\n",
      "(Epoch 143 / 200) train acc: 1.000000; val_acc: 0.183000\n",
      "(Epoch 144 / 200) train acc: 1.000000; val_acc: 0.185000\n",
      "(Epoch 145 / 200) train acc: 1.000000; val_acc: 0.187000\n",
      "(Iteration 291 / 400) loss: 0.005901\n",
      "(Epoch 146 / 200) train acc: 1.000000; val_acc: 0.187000\n",
      "(Epoch 147 / 200) train acc: 1.000000; val_acc: 0.189000\n",
      "(Epoch 148 / 200) train acc: 1.000000; val_acc: 0.186000\n",
      "(Epoch 149 / 200) train acc: 1.000000; val_acc: 0.186000\n",
      "(Epoch 150 / 200) train acc: 1.000000; val_acc: 0.186000\n",
      "(Iteration 301 / 400) loss: 0.100908\n",
      "(Epoch 151 / 200) train acc: 1.000000; val_acc: 0.186000\n",
      "(Epoch 152 / 200) train acc: 1.000000; val_acc: 0.186000\n",
      "(Epoch 153 / 200) train acc: 1.000000; val_acc: 0.185000\n",
      "(Epoch 154 / 200) train acc: 1.000000; val_acc: 0.186000\n",
      "(Epoch 155 / 200) train acc: 1.000000; val_acc: 0.185000\n",
      "(Iteration 311 / 400) loss: 0.005451\n",
      "(Epoch 156 / 200) train acc: 1.000000; val_acc: 0.185000\n",
      "(Epoch 157 / 200) train acc: 1.000000; val_acc: 0.186000\n",
      "(Epoch 158 / 200) train acc: 1.000000; val_acc: 0.185000\n",
      "(Epoch 159 / 200) train acc: 1.000000; val_acc: 0.186000\n",
      "(Epoch 160 / 200) train acc: 1.000000; val_acc: 0.184000\n",
      "(Iteration 321 / 400) loss: 0.002865\n",
      "(Epoch 161 / 200) train acc: 1.000000; val_acc: 0.184000\n",
      "(Epoch 162 / 200) train acc: 1.000000; val_acc: 0.184000\n",
      "(Epoch 163 / 200) train acc: 1.000000; val_acc: 0.184000\n",
      "(Epoch 164 / 200) train acc: 1.000000; val_acc: 0.186000\n",
      "(Epoch 165 / 200) train acc: 1.000000; val_acc: 0.186000\n",
      "(Iteration 331 / 400) loss: 0.006431\n",
      "(Epoch 166 / 200) train acc: 1.000000; val_acc: 0.185000\n",
      "(Epoch 167 / 200) train acc: 1.000000; val_acc: 0.183000\n",
      "(Epoch 168 / 200) train acc: 1.000000; val_acc: 0.185000\n",
      "(Epoch 169 / 200) train acc: 1.000000; val_acc: 0.185000\n",
      "(Epoch 170 / 200) train acc: 1.000000; val_acc: 0.184000\n",
      "(Iteration 341 / 400) loss: 0.002554\n",
      "(Epoch 171 / 200) train acc: 1.000000; val_acc: 0.184000\n",
      "(Epoch 172 / 200) train acc: 1.000000; val_acc: 0.185000\n",
      "(Epoch 173 / 200) train acc: 1.000000; val_acc: 0.185000\n",
      "(Epoch 174 / 200) train acc: 1.000000; val_acc: 0.184000\n",
      "(Epoch 175 / 200) train acc: 1.000000; val_acc: 0.183000\n",
      "(Iteration 351 / 400) loss: 0.006671\n",
      "(Epoch 176 / 200) train acc: 1.000000; val_acc: 0.183000\n",
      "(Epoch 177 / 200) train acc: 1.000000; val_acc: 0.182000\n",
      "(Epoch 178 / 200) train acc: 1.000000; val_acc: 0.183000\n",
      "(Epoch 179 / 200) train acc: 1.000000; val_acc: 0.184000\n",
      "(Epoch 180 / 200) train acc: 1.000000; val_acc: 0.185000\n",
      "(Iteration 361 / 400) loss: 0.006104\n",
      "(Epoch 181 / 200) train acc: 1.000000; val_acc: 0.184000\n",
      "(Epoch 182 / 200) train acc: 1.000000; val_acc: 0.185000\n",
      "(Epoch 183 / 200) train acc: 1.000000; val_acc: 0.185000\n",
      "(Epoch 184 / 200) train acc: 1.000000; val_acc: 0.184000\n",
      "(Epoch 185 / 200) train acc: 1.000000; val_acc: 0.184000\n",
      "(Iteration 371 / 400) loss: 0.003816\n",
      "(Epoch 186 / 200) train acc: 1.000000; val_acc: 0.184000\n",
      "(Epoch 187 / 200) train acc: 1.000000; val_acc: 0.185000\n",
      "(Epoch 188 / 200) train acc: 1.000000; val_acc: 0.184000\n",
      "(Epoch 189 / 200) train acc: 1.000000; val_acc: 0.184000\n",
      "(Epoch 190 / 200) train acc: 1.000000; val_acc: 0.184000\n",
      "(Iteration 381 / 400) loss: 0.003380\n",
      "(Epoch 191 / 200) train acc: 1.000000; val_acc: 0.183000\n",
      "(Epoch 192 / 200) train acc: 1.000000; val_acc: 0.182000\n",
      "(Epoch 193 / 200) train acc: 1.000000; val_acc: 0.181000\n",
      "(Epoch 194 / 200) train acc: 1.000000; val_acc: 0.184000\n",
      "(Epoch 195 / 200) train acc: 1.000000; val_acc: 0.184000\n",
      "(Iteration 391 / 400) loss: 0.004726\n",
      "(Epoch 196 / 200) train acc: 1.000000; val_acc: 0.185000\n",
      "(Epoch 197 / 200) train acc: 1.000000; val_acc: 0.184000\n",
      "(Epoch 198 / 200) train acc: 1.000000; val_acc: 0.184000\n",
      "(Epoch 199 / 200) train acc: 1.000000; val_acc: 0.183000\n",
      "(Epoch 200 / 200) train acc: 1.000000; val_acc: 0.183000\n"
     ]
    },
    {
     "data": {
      "image/png": "[encoded data removed]",
      "text/plain": [
       "<Figure size 1000x800 with 1 Axes>"
      ]
     },
     "metadata": {},
     "output_type": "display_data"
    }
   ],
   "source": [
    "# Use the three layer neural network to overfit a small dataset.\n",
    "\n",
    "num_train = 50\n",
    "small_data = {\n",
    "  'X_train': data['X_train'][:num_train],\n",
    "  'y_train': data['y_train'][:num_train],\n",
    "  'X_val': data['X_val'],\n",
    "  'y_val': data['y_val'],\n",
    "}\n",
    "\n",
    "\n",
    "#### !!!!!!\n",
    "# Play around with the weight_scale and learning_rate so that you can overfit a small dataset.\n",
    "# Your training accuracy should be 1.0 to receive full credit on this part.\n",
    "weight_scale = 1e-3\n",
    "learning_rate = 1e-3\n",
    "\n",
    "model = FullyConnectedNet([100, 100],\n",
    "              weight_scale=weight_scale, dtype=np.float64)\n",
    "solver = Solver(model, small_data,\n",
    "                print_every=10, num_epochs=200, batch_size=25,\n",
    "                update_rule='sgd',\n",
    "                optim_config={\n",
    "                  'learning_rate': learning_rate,\n",
    "                }\n",
    "         )\n",
    "print(learning_rate)\n",
    "print(weight_scale)\n",
    "solver.train()\n",
    "plt.plot(solver.loss_history, 'o')\n",
    "plt.title('Training loss history')\n",
    "plt.xlabel('Iteration')\n",
    "plt.ylabel('Training loss')\n",
    "plt.show()"
   ]
  }
 ],
 "metadata": {
  "kernelspec": {
   "display_name": "venv",
   "language": "python",
   "name": "python3"
  },
  "language_info": {
   "codemirror_mode": {
    "name": "ipython",
    "version": 3
   },
   "file_extension": ".py",
   "mimetype": "text/x-python",
   "name": "python",
   "nbconvert_exporter": "python",
   "pygments_lexer": "ipython3",
   "version": "3.11.9"
  },
  "varInspector": {
   "cols": {
    "lenName": 16,
    "lenType": 16,
    "lenVar": 40
   },
   "kernels_config": {
    "python": {
     "delete_cmd_postfix": "",
     "delete_cmd_prefix": "del ",
     "library": "var_list.py",
     "varRefreshCmd": "print(var_dic_list())"
    },
    "r": {
     "delete_cmd_postfix": ") ",
     "delete_cmd_prefix": "rm(",
     "library": "var_list.r",
     "varRefreshCmd": "cat(var_dic_list()) "
    }
   },
   "types_to_exclude": [
    "module",
    "function",
    "builtin_function_or_method",
    "instance",
    "_Feature"
   ],
   "window_display": true
  }
 },
 "nbformat": 4,
 "nbformat_minor": 2
}
