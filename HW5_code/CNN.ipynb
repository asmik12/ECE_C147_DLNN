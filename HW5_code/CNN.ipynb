{
 "cells": [
  {
   "cell_type": "markdown",
   "metadata": {},
   "source": [
    "# Convolutional neural networks\n",
    "\n",
    "In this notebook, we'll put together our convolutional layers to implement a 3-layer CNN.  Then, we'll ask you to implement a CNN that can achieve > 65% validation error on CIFAR-10.\n",
    "\n",
    "CS231n has built a solid API for building these modular frameworks and training them, and we will use their very well implemented framework as opposed to \"reinventing the wheel.\"  This includes using their Solver, various utility functions, their layer structure, and their implementation of fast CNN layers.  This also includes nndl.fc_net, nndl.layers, and nndl.layer_utils.  As in prior assignments, we thank Serena Yeung & Justin Johnson for permission to use code written for the CS 231n class (cs231n.stanford.edu).  \n",
    "\n",
    "\n",
    "If you have not completed the Spatial BatchNorm Notebook, please see the following description from that notebook:\n",
    "\n",
    "Please copy and paste your prior implemented code from HW #4 to start this assignment.  If you did not correctly implement the layers in HW #4, you may collaborate with a classmate to use their layer implementations from HW #4.  You may also visit TA or Prof OH to correct your implementation.  \n",
    "\n",
    "You'll want to copy and paste from HW #4:\n",
    "    - layers.py for your FC network layers, as well as batchnorm and dropout.\n",
    "    - layer_utils.py for your combined FC network layers.\n",
    "    - optim.py for your optimizers.\n",
    "\n",
    "Be sure to place these in the `nndl/` directory so they're imported correctly.  Note, as announced in class, we will not be releasing our solutions."
   ]
  },
  {
   "cell_type": "code",
   "execution_count": 2,
   "metadata": {},
   "outputs": [],
   "source": [
    "# As usual, a bit of setup\n",
    "\n",
    "import numpy as np\n",
    "import matplotlib.pyplot as plt\n",
    "from nndl.cnn import *\n",
    "from cs231n.data_utils import get_CIFAR10_data\n",
    "from cs231n.gradient_check import eval_numerical_gradient_array, eval_numerical_gradient\n",
    "from nndl.layers import *\n",
    "from nndl.conv_layers import *\n",
    "from cs231n.fast_layers import *\n",
    "from cs231n.solver import Solver\n",
    "\n",
    "%matplotlib inline\n",
    "plt.rcParams['figure.figsize'] = (10.0, 8.0) # set default size of plots\n",
    "plt.rcParams['image.interpolation'] = 'nearest'\n",
    "plt.rcParams['image.cmap'] = 'gray'\n",
    "\n",
    "# for auto-reloading external modules\n",
    "# see http://stackoverflow.com/questions/1907993/autoreload-of-modules-in-ipython\n",
    "%load_ext autoreload\n",
    "%autoreload 2\n",
    "\n",
    "def rel_error(x, y):\n",
    "  \"\"\" returns relative error \"\"\"\n",
    "  return np.max(np.abs(x - y) / (np.maximum(1e-8, np.abs(x) + np.abs(y))))"
   ]
  },
  {
   "cell_type": "code",
   "execution_count": 3,
   "metadata": {},
   "outputs": [
    {
     "name": "stdout",
     "output_type": "stream",
     "text": [
      "X_train: (49000, 3, 32, 32) \n",
      "y_train: (49000,) \n",
      "X_val: (1000, 3, 32, 32) \n",
      "y_val: (1000,) \n",
      "X_test: (1000, 3, 32, 32) \n",
      "y_test: (1000,) \n"
     ]
    }
   ],
   "source": [
    "# Load the (preprocessed) CIFAR10 data.\n",
    "\n",
    "data = get_CIFAR10_data()\n",
    "for k in data.keys():\n",
    "  print('{}: {} '.format(k, data[k].shape))"
   ]
  },
  {
   "cell_type": "markdown",
   "metadata": {},
   "source": [
    "## Three layer CNN\n",
    "\n",
    "In this notebook, you will implement a three layer CNN.  The `ThreeLayerConvNet` class is in `nndl/cnn.py`.  You'll need to modify that code for this section, including the initialization, as well as the calculation of the loss and gradients.  You should be able to use the building blocks you have either earlier coded or that we have provided.  Be sure to use the fast layers.\n",
    "\n",
    "The architecture of this CNN will be:\n",
    "\n",
    "conv - relu - 2x2 max pool - affine - relu - affine - softmax\n",
    "\n",
    "We won't use batchnorm yet.  You've also done enough of these to know how to debug; use the cells below.\n",
    "\n",
    "Note: As we are implementing several layers CNN networks. The gradient error can be expected for the `eval_numerical_gradient()` function. If your `W1 max relative error` and `W2 max relative error` are around or below 0.01, they should be acceptable. Other errors should be less than 1e-5. "
   ]
  },
  {
   "cell_type": "code",
   "execution_count": 4,
   "metadata": {},
   "outputs": [
    {
     "name": "stdout",
     "output_type": "stream",
     "text": [
      "W1 max relative error: 0.010386323823161812\n",
      "W2 max relative error: 0.011300566157704032\n",
      "W3 max relative error: 0.00014506366005927787\n",
      "b1 max relative error: 9.061925506014798e-06\n",
      "b2 max relative error: 2.608508400787629e-06\n",
      "b3 max relative error: 5.167224637331923e-10\n"
     ]
    }
   ],
   "source": [
    "num_inputs = 2\n",
    "input_dim = (3, 16, 16)\n",
    "reg = 0.0\n",
    "num_classes = 10\n",
    "X = np.random.randn(num_inputs, *input_dim)\n",
    "y = np.random.randint(num_classes, size=num_inputs)\n",
    "\n",
    "model = ThreeLayerConvNet(num_filters=3, filter_size=3,\n",
    "                          input_dim=input_dim, hidden_dim=7,\n",
    "                          dtype=np.float64)\n",
    "loss, grads = model.loss(X, y)\n",
    "for param_name in sorted(grads):\n",
    "    f = lambda _: model.loss(X, y)[0]\n",
    "    param_grad_num = eval_numerical_gradient(f, model.params[param_name], verbose=False, h=1e-6)\n",
    "    e = rel_error(param_grad_num, grads[param_name])\n",
    "    print('{} max relative error: {}'.format(param_name, rel_error(param_grad_num, grads[param_name])))"
   ]
  },
  {
   "cell_type": "markdown",
   "metadata": {},
   "source": [
    "### Overfit small dataset\n",
    "\n",
    "To check your CNN implementation, let's overfit a small dataset."
   ]
  },
  {
   "cell_type": "code",
   "execution_count": 5,
   "metadata": {},
   "outputs": [
    {
     "name": "stdout",
     "output_type": "stream",
     "text": [
      "(Iteration 1 / 20) loss: 2.319811\n",
      "(Epoch 0 / 10) train acc: 0.160000; val_acc: 0.119000\n",
      "(Iteration 2 / 20) loss: 5.475251\n",
      "(Epoch 1 / 10) train acc: 0.160000; val_acc: 0.113000\n",
      "(Iteration 3 / 20) loss: 3.611748\n",
      "(Iteration 4 / 20) loss: 2.811782\n",
      "(Epoch 2 / 10) train acc: 0.210000; val_acc: 0.086000\n",
      "(Iteration 5 / 20) loss: 2.664179\n",
      "(Iteration 6 / 20) loss: 2.427324\n",
      "(Epoch 3 / 10) train acc: 0.100000; val_acc: 0.100000\n",
      "(Iteration 7 / 20) loss: 2.695186\n",
      "(Iteration 8 / 20) loss: 2.531775\n",
      "(Epoch 4 / 10) train acc: 0.210000; val_acc: 0.109000\n",
      "(Iteration 9 / 20) loss: 2.183469\n",
      "(Iteration 10 / 20) loss: 1.989465\n",
      "(Epoch 5 / 10) train acc: 0.200000; val_acc: 0.119000\n",
      "(Iteration 11 / 20) loss: 1.962826\n",
      "(Iteration 12 / 20) loss: 1.886415\n",
      "(Epoch 6 / 10) train acc: 0.350000; val_acc: 0.156000\n",
      "(Iteration 13 / 20) loss: 1.720085\n",
      "(Iteration 14 / 20) loss: 1.693130\n",
      "(Epoch 7 / 10) train acc: 0.450000; val_acc: 0.183000\n",
      "(Iteration 15 / 20) loss: 1.544906\n",
      "(Iteration 16 / 20) loss: 1.524669\n",
      "(Epoch 8 / 10) train acc: 0.540000; val_acc: 0.191000\n",
      "(Iteration 17 / 20) loss: 1.760043\n",
      "(Iteration 18 / 20) loss: 1.517044\n",
      "(Epoch 9 / 10) train acc: 0.560000; val_acc: 0.212000\n",
      "(Iteration 19 / 20) loss: 1.295414\n",
      "(Iteration 20 / 20) loss: 1.232592\n",
      "(Epoch 10 / 10) train acc: 0.560000; val_acc: 0.219000\n"
     ]
    }
   ],
   "source": [
    "num_train = 100\n",
    "small_data = {\n",
    "  'X_train': data['X_train'][:num_train],\n",
    "  'y_train': data['y_train'][:num_train],\n",
    "  'X_val': data['X_val'],\n",
    "  'y_val': data['y_val'],\n",
    "}\n",
    "\n",
    "model = ThreeLayerConvNet(weight_scale=1e-2)\n",
    "\n",
    "solver = Solver(model, small_data,\n",
    "                num_epochs=10, batch_size=50,\n",
    "                update_rule='adam',\n",
    "                optim_config={\n",
    "                  'learning_rate': 1e-3,\n",
    "                },\n",
    "                verbose=True, print_every=1)\n",
    "solver.train()"
   ]
  },
  {
   "cell_type": "code",
   "execution_count": 6,
   "metadata": {},
   "outputs": [
    {
     "data": {
      "image/png": "[encoded data removed]",
      "text/plain": [
       "<Figure size 1000x800 with 2 Axes>"
      ]
     },
     "metadata": {},
     "output_type": "display_data"
    }
   ],
   "source": [
    "plt.subplot(2, 1, 1)\n",
    "plt.plot(solver.loss_history, 'o')\n",
    "plt.xlabel('iteration')\n",
    "plt.ylabel('loss')\n",
    "\n",
    "plt.subplot(2, 1, 2)\n",
    "plt.plot(solver.train_acc_history, '-o')\n",
    "plt.plot(solver.val_acc_history, '-o')\n",
    "plt.legend(['train', 'val'], loc='upper left')\n",
    "plt.xlabel('epoch')\n",
    "plt.ylabel('accuracy')\n",
    "plt.show()"
   ]
  },
  {
   "cell_type": "markdown",
   "metadata": {},
   "source": [
    "## Train the network\n",
    "\n",
    "Now we train the 3 layer CNN on CIFAR-10 and assess its accuracy."
   ]
  },
  {
   "cell_type": "code",
   "execution_count": 7,
   "metadata": {
    "scrolled": false
   },
   "outputs": [
    {
     "name": "stdout",
     "output_type": "stream",
     "text": [
      "(Iteration 1 / 980) loss: 2.304718\n",
      "(Epoch 0 / 1) train acc: 0.103000; val_acc: 0.088000\n",
      "(Iteration 21 / 980) loss: 2.125950\n",
      "(Iteration 41 / 980) loss: 2.107868\n",
      "(Iteration 61 / 980) loss: 2.090137\n",
      "(Iteration 81 / 980) loss: 1.863489\n",
      "(Iteration 101 / 980) loss: 1.643453\n",
      "(Iteration 121 / 980) loss: 1.999385\n",
      "(Iteration 141 / 980) loss: 1.737660\n",
      "(Iteration 161 / 980) loss: 1.929570\n",
      "(Iteration 181 / 980) loss: 1.988388\n",
      "(Iteration 201 / 980) loss: 1.679840\n",
      "(Iteration 221 / 980) loss: 1.873791\n",
      "(Iteration 241 / 980) loss: 1.671832\n",
      "(Iteration 261 / 980) loss: 1.812649\n",
      "(Iteration 281 / 980) loss: 1.617946\n",
      "(Iteration 301 / 980) loss: 1.736327\n",
      "(Iteration 321 / 980) loss: 1.842056\n",
      "(Iteration 341 / 980) loss: 1.842676\n",
      "(Iteration 361 / 980) loss: 1.860306\n",
      "(Iteration 381 / 980) loss: 1.679954\n",
      "(Iteration 401 / 980) loss: 1.619468\n",
      "(Iteration 421 / 980) loss: 1.786589\n",
      "(Iteration 441 / 980) loss: 1.646799\n",
      "(Iteration 461 / 980) loss: 1.623277\n",
      "(Iteration 481 / 980) loss: 1.611203\n",
      "(Iteration 501 / 980) loss: 1.307884\n",
      "(Iteration 521 / 980) loss: 1.838255\n",
      "(Iteration 541 / 980) loss: 1.804148\n",
      "(Iteration 561 / 980) loss: 1.812187\n",
      "(Iteration 581 / 980) loss: 1.767524\n",
      "(Iteration 601 / 980) loss: 1.719621\n",
      "(Iteration 621 / 980) loss: 1.808029\n",
      "(Iteration 641 / 980) loss: 2.018353\n",
      "(Iteration 661 / 980) loss: 1.496073\n",
      "(Iteration 681 / 980) loss: 1.539558\n",
      "(Iteration 701 / 980) loss: 1.746261\n",
      "(Iteration 721 / 980) loss: 1.875626\n",
      "(Iteration 741 / 980) loss: 1.885557\n",
      "(Iteration 761 / 980) loss: 1.846700\n",
      "(Iteration 781 / 980) loss: 1.730278\n",
      "(Iteration 801 / 980) loss: 1.609886\n",
      "(Iteration 821 / 980) loss: 1.741131\n",
      "(Iteration 841 / 980) loss: 1.649328\n",
      "(Iteration 861 / 980) loss: 1.602712\n",
      "(Iteration 881 / 980) loss: 1.826785\n",
      "(Iteration 901 / 980) loss: 1.679316\n",
      "(Iteration 921 / 980) loss: 1.652846\n",
      "(Iteration 941 / 980) loss: 2.152399\n",
      "(Iteration 961 / 980) loss: 1.591417\n",
      "(Epoch 1 / 1) train acc: 0.481000; val_acc: 0.461000\n"
     ]
    }
   ],
   "source": [
    "model = ThreeLayerConvNet(weight_scale=0.001, hidden_dim=500, reg=0.001)\n",
    "\n",
    "solver = Solver(model, data,\n",
    "                num_epochs=1, batch_size=50,\n",
    "                update_rule='adam',\n",
    "                optim_config={\n",
    "                  'learning_rate': 1e-3,\n",
    "                },\n",
    "                verbose=True, print_every=20)\n",
    "solver.train()"
   ]
  },
  {
   "cell_type": "markdown",
   "metadata": {},
   "source": [
    "# Get > 65% validation accuracy on CIFAR-10.\n",
    "\n",
    "In the last part of the assignment, we'll now ask you to train a CNN to get better than 65% validation accuracy on CIFAR-10.\n",
    "\n",
    "### Things you should try:\n",
    "- Filter size: Above we used 7x7; but VGGNet and onwards showed stacks of 3x3 filters are good.  \n",
    "- Number of filters: Above we used 32 filters. Do more or fewer do better?\n",
    "- Batch normalization: Try adding spatial batch normalization after convolution layers and vanilla batch normalization aafter affine layers. Do your networks train faster?\n",
    "- Network architecture: Can a deeper CNN do better?  Consider these architectures:\n",
    "    - [conv-relu-pool]xN - conv - relu - [affine]xM - [softmax or SVM]\n",
    "    - [conv-relu-pool]XN - [affine]XM - [softmax or SVM]\n",
    "    - [conv-relu-conv-relu-pool]xN - [affine]xM - [softmax or SVM]\n",
    "\n",
    "### Tips for training\n",
    "For each network architecture that you try, you should tune the learning rate and regularization strength. When doing this there are a couple important things to keep in mind:\n",
    "\n",
    "- If the parameters are working well, you should see improvement within a few hundred iterations\n",
    "- Remember the coarse-to-fine approach for hyperparameter tuning: start by testing a large range of hyperparameters for just a few training iterations to find the combinations of parameters that are working at all.\n",
    "- Once you have found some sets of parameters that seem to work, search more finely around these parameters. You may need to train for more epochs."
   ]
  },
  {
   "cell_type": "code",
   "execution_count": 8,
   "metadata": {},
   "outputs": [
    {
     "name": "stdout",
     "output_type": "stream",
     "text": [
      "(Iteration 1 / 2450) loss: 2.314150\n",
      "(Epoch 0 / 5) train acc: 0.104000; val_acc: 0.079000\n",
      "(Iteration 201 / 2450) loss: 1.920490\n",
      "(Iteration 401 / 2450) loss: 2.410136\n",
      "(Epoch 1 / 5) train acc: 0.575000; val_acc: 0.562000\n",
      "(Iteration 601 / 2450) loss: 2.694842\n"
     ]
    },
    {
     "ename": "KeyboardInterrupt",
     "evalue": "",
     "output_type": "error",
     "traceback": [
      "\u001b[1;31m---------------------------------------------------------------------------\u001b[0m",
      "\u001b[1;31mKeyboardInterrupt\u001b[0m                         Traceback (most recent call last)",
      "Cell \u001b[1;32mIn[8], line 16\u001b[0m\n\u001b[0;32m      7\u001b[0m model \u001b[38;5;241m=\u001b[39m ThreeLayerConvNet(weight_scale\u001b[38;5;241m=\u001b[39m\u001b[38;5;241m0.001\u001b[39m, hidden_dim\u001b[38;5;241m=\u001b[39m\u001b[38;5;241m300\u001b[39m, reg\u001b[38;5;241m=\u001b[39m\u001b[38;5;241m0.02\u001b[39m, filter_size\u001b[38;5;241m=\u001b[39m\u001b[38;5;241m3\u001b[39m, num_filters\u001b[38;5;241m=\u001b[39m\u001b[38;5;241m15\u001b[39m)\n\u001b[0;32m      9\u001b[0m solver \u001b[38;5;241m=\u001b[39m Solver(model, data,\n\u001b[0;32m     10\u001b[0m                 num_epochs\u001b[38;5;241m=\u001b[39m\u001b[38;5;241m5\u001b[39m, batch_size\u001b[38;5;241m=\u001b[39m\u001b[38;5;241m100\u001b[39m,\n\u001b[0;32m     11\u001b[0m                 update_rule\u001b[38;5;241m=\u001b[39m\u001b[38;5;124m'\u001b[39m\u001b[38;5;124madam\u001b[39m\u001b[38;5;124m'\u001b[39m,\n\u001b[1;32m   (...)\u001b[0m\n\u001b[0;32m     14\u001b[0m                 },\n\u001b[0;32m     15\u001b[0m                 verbose\u001b[38;5;241m=\u001b[39m\u001b[38;5;28;01mTrue\u001b[39;00m, print_every\u001b[38;5;241m=\u001b[39m\u001b[38;5;241m200\u001b[39m, lr_decay\u001b[38;5;241m=\u001b[39m\u001b[38;5;241m0.85\u001b[39m)\n\u001b[1;32m---> 16\u001b[0m \u001b[43msolver\u001b[49m\u001b[38;5;241;43m.\u001b[39;49m\u001b[43mtrain\u001b[49m\u001b[43m(\u001b[49m\u001b[43m)\u001b[49m\n\u001b[0;32m     17\u001b[0m \u001b[38;5;66;03m# ================================================================ #\u001b[39;00m\n\u001b[0;32m     18\u001b[0m \u001b[38;5;66;03m# END YOUR CODE HERE\u001b[39;00m\n\u001b[0;32m     19\u001b[0m \u001b[38;5;66;03m# ================================================================ #\u001b[39;00m\n",
      "File \u001b[1;32mc:\\Users\\asmi_\\Asmi's Documents\\Academics\\2022-26_UCLA\\2024-25_Junior Year\\W25 - ECE C147\\ECE_C147_DLNN\\HW5_code\\cs231n\\solver.py:264\u001b[0m, in \u001b[0;36mSolver.train\u001b[1;34m(self)\u001b[0m\n\u001b[0;32m    261\u001b[0m num_iterations \u001b[38;5;241m=\u001b[39m \u001b[38;5;28mself\u001b[39m\u001b[38;5;241m.\u001b[39mnum_epochs \u001b[38;5;241m*\u001b[39m iterations_per_epoch\n\u001b[0;32m    263\u001b[0m \u001b[38;5;28;01mfor\u001b[39;00m t \u001b[38;5;129;01min\u001b[39;00m \u001b[38;5;28mrange\u001b[39m(num_iterations):\n\u001b[1;32m--> 264\u001b[0m     \u001b[38;5;28;43mself\u001b[39;49m\u001b[38;5;241;43m.\u001b[39;49m\u001b[43m_step\u001b[49m\u001b[43m(\u001b[49m\u001b[43m)\u001b[49m\n\u001b[0;32m    266\u001b[0m     \u001b[38;5;66;03m# Maybe print training loss\u001b[39;00m\n\u001b[0;32m    267\u001b[0m     \u001b[38;5;28;01mif\u001b[39;00m \u001b[38;5;28mself\u001b[39m\u001b[38;5;241m.\u001b[39mverbose \u001b[38;5;129;01mand\u001b[39;00m t \u001b[38;5;241m%\u001b[39m \u001b[38;5;28mself\u001b[39m\u001b[38;5;241m.\u001b[39mprint_every \u001b[38;5;241m==\u001b[39m \u001b[38;5;241m0\u001b[39m:\n",
      "File \u001b[1;32mc:\\Users\\asmi_\\Asmi's Documents\\Academics\\2022-26_UCLA\\2024-25_Junior Year\\W25 - ECE C147\\ECE_C147_DLNN\\HW5_code\\cs231n\\solver.py:180\u001b[0m, in \u001b[0;36mSolver._step\u001b[1;34m(self)\u001b[0m\n\u001b[0;32m    177\u001b[0m y_batch \u001b[38;5;241m=\u001b[39m \u001b[38;5;28mself\u001b[39m\u001b[38;5;241m.\u001b[39my_train[batch_mask]\n\u001b[0;32m    179\u001b[0m \u001b[38;5;66;03m# Compute loss and gradient\u001b[39;00m\n\u001b[1;32m--> 180\u001b[0m loss, grads \u001b[38;5;241m=\u001b[39m \u001b[38;5;28;43mself\u001b[39;49m\u001b[38;5;241;43m.\u001b[39;49m\u001b[43mmodel\u001b[49m\u001b[38;5;241;43m.\u001b[39;49m\u001b[43mloss\u001b[49m\u001b[43m(\u001b[49m\u001b[43mX_batch\u001b[49m\u001b[43m,\u001b[49m\u001b[43m \u001b[49m\u001b[43my_batch\u001b[49m\u001b[43m)\u001b[49m\n\u001b[0;32m    181\u001b[0m \u001b[38;5;28mself\u001b[39m\u001b[38;5;241m.\u001b[39mloss_history\u001b[38;5;241m.\u001b[39mappend(loss)\n\u001b[0;32m    183\u001b[0m \u001b[38;5;66;03m# Perform a parameter update\u001b[39;00m\n",
      "File \u001b[1;32mc:\\Users\\asmi_\\Asmi's Documents\\Academics\\2022-26_UCLA\\2024-25_Junior Year\\W25 - ECE C147\\ECE_C147_DLNN\\HW5_code\\nndl\\cnn.py:143\u001b[0m, in \u001b[0;36mThreeLayerConvNet.loss\u001b[1;34m(self, X, y)\u001b[0m\n\u001b[0;32m    141\u001b[0m dout, grads[\u001b[38;5;124m'\u001b[39m\u001b[38;5;124mW3\u001b[39m\u001b[38;5;124m'\u001b[39m], grads[\u001b[38;5;124m'\u001b[39m\u001b[38;5;124mb3\u001b[39m\u001b[38;5;124m'\u001b[39m] \u001b[38;5;241m=\u001b[39m affine_backward(dout, affine_cache) \n\u001b[0;32m    142\u001b[0m dout, grads[\u001b[38;5;124m'\u001b[39m\u001b[38;5;124mW2\u001b[39m\u001b[38;5;124m'\u001b[39m], grads[\u001b[38;5;124m'\u001b[39m\u001b[38;5;124mb2\u001b[39m\u001b[38;5;124m'\u001b[39m] \u001b[38;5;241m=\u001b[39m affine_relu_backward(dout, relu_cache)\n\u001b[1;32m--> 143\u001b[0m dout, grads[\u001b[38;5;124m'\u001b[39m\u001b[38;5;124mW1\u001b[39m\u001b[38;5;124m'\u001b[39m], grads[\u001b[38;5;124m'\u001b[39m\u001b[38;5;124mb1\u001b[39m\u001b[38;5;124m'\u001b[39m] \u001b[38;5;241m=\u001b[39m \u001b[43mconv_relu_pool_backward\u001b[49m\u001b[43m(\u001b[49m\u001b[43mdout\u001b[49m\u001b[43m,\u001b[49m\u001b[43m \u001b[49m\u001b[43mconv_cache\u001b[49m\u001b[43m)\u001b[49m  \u001b[38;5;66;03m# Backprop to conv layer\u001b[39;00m\n\u001b[0;32m    144\u001b[0m \u001b[38;5;66;03m# ================================================================ #\u001b[39;00m\n\u001b[0;32m    145\u001b[0m \u001b[38;5;66;03m# END YOUR CODE HERE\u001b[39;00m\n\u001b[0;32m    146\u001b[0m \u001b[38;5;66;03m# ================================================================ #\u001b[39;00m\n\u001b[0;32m    148\u001b[0m \u001b[38;5;28;01mreturn\u001b[39;00m loss, grads\n",
      "File \u001b[1;32mc:\\Users\\asmi_\\Asmi's Documents\\Academics\\2022-26_UCLA\\2024-25_Junior Year\\W25 - ECE C147\\ECE_C147_DLNN\\HW5_code\\nndl\\conv_layer_utils.py:68\u001b[0m, in \u001b[0;36mconv_relu_pool_backward\u001b[1;34m(dout, cache)\u001b[0m\n\u001b[0;32m     64\u001b[0m \u001b[38;5;250m\u001b[39m\u001b[38;5;124;03m\"\"\"\u001b[39;00m\n\u001b[0;32m     65\u001b[0m \u001b[38;5;124;03mBackward pass for the conv-relu-pool convenience layer\u001b[39;00m\n\u001b[0;32m     66\u001b[0m \u001b[38;5;124;03m\"\"\"\u001b[39;00m\n\u001b[0;32m     67\u001b[0m conv_cache, relu_cache, pool_cache \u001b[38;5;241m=\u001b[39m cache\n\u001b[1;32m---> 68\u001b[0m ds \u001b[38;5;241m=\u001b[39m \u001b[43mmax_pool_backward_fast\u001b[49m\u001b[43m(\u001b[49m\u001b[43mdout\u001b[49m\u001b[43m,\u001b[49m\u001b[43m \u001b[49m\u001b[43mpool_cache\u001b[49m\u001b[43m)\u001b[49m\n\u001b[0;32m     69\u001b[0m da \u001b[38;5;241m=\u001b[39m relu_backward(ds, relu_cache)\n\u001b[0;32m     70\u001b[0m dx, dw, db \u001b[38;5;241m=\u001b[39m conv_backward_fast(da, conv_cache)\n",
      "File \u001b[1;32mc:\\Users\\asmi_\\Asmi's Documents\\Academics\\2022-26_UCLA\\2024-25_Junior Year\\W25 - ECE C147\\ECE_C147_DLNN\\HW5_code\\cs231n\\fast_layers.py:168\u001b[0m, in \u001b[0;36mmax_pool_backward_fast\u001b[1;34m(dout, cache)\u001b[0m\n\u001b[0;32m    166\u001b[0m method, real_cache \u001b[38;5;241m=\u001b[39m cache\n\u001b[0;32m    167\u001b[0m \u001b[38;5;28;01mif\u001b[39;00m method \u001b[38;5;241m==\u001b[39m \u001b[38;5;124m'\u001b[39m\u001b[38;5;124mreshape\u001b[39m\u001b[38;5;124m'\u001b[39m:\n\u001b[1;32m--> 168\u001b[0m     \u001b[38;5;28;01mreturn\u001b[39;00m \u001b[43mmax_pool_backward_reshape\u001b[49m\u001b[43m(\u001b[49m\u001b[43mdout\u001b[49m\u001b[43m,\u001b[49m\u001b[43m \u001b[49m\u001b[43mreal_cache\u001b[49m\u001b[43m)\u001b[49m\n\u001b[0;32m    169\u001b[0m \u001b[38;5;28;01melif\u001b[39;00m method \u001b[38;5;241m==\u001b[39m \u001b[38;5;124m'\u001b[39m\u001b[38;5;124mim2col\u001b[39m\u001b[38;5;124m'\u001b[39m:\n\u001b[0;32m    170\u001b[0m     \u001b[38;5;28;01mreturn\u001b[39;00m max_pool_backward_im2col(dout, real_cache)\n",
      "File \u001b[1;32mc:\\Users\\asmi_\\Asmi's Documents\\Academics\\2022-26_UCLA\\2024-25_Junior Year\\W25 - ECE C147\\ECE_C147_DLNN\\HW5_code\\cs231n\\fast_layers.py:221\u001b[0m, in \u001b[0;36mmax_pool_backward_reshape\u001b[1;34m(dout, cache)\u001b[0m\n\u001b[0;32m    219\u001b[0m dout_broadcast, _ \u001b[38;5;241m=\u001b[39m np\u001b[38;5;241m.\u001b[39mbroadcast_arrays(dout_newaxis, dx_reshaped)\n\u001b[0;32m    220\u001b[0m dx_reshaped[mask] \u001b[38;5;241m=\u001b[39m dout_broadcast[mask]\n\u001b[1;32m--> 221\u001b[0m dx_reshaped \u001b[38;5;241m/\u001b[39m\u001b[38;5;241m=\u001b[39m \u001b[43mnp\u001b[49m\u001b[38;5;241;43m.\u001b[39;49m\u001b[43msum\u001b[49m\u001b[43m(\u001b[49m\u001b[43mmask\u001b[49m\u001b[43m,\u001b[49m\u001b[43m \u001b[49m\u001b[43maxis\u001b[49m\u001b[38;5;241;43m=\u001b[39;49m\u001b[43m(\u001b[49m\u001b[38;5;241;43m3\u001b[39;49m\u001b[43m,\u001b[49m\u001b[43m \u001b[49m\u001b[38;5;241;43m5\u001b[39;49m\u001b[43m)\u001b[49m\u001b[43m,\u001b[49m\u001b[43m \u001b[49m\u001b[43mkeepdims\u001b[49m\u001b[38;5;241;43m=\u001b[39;49m\u001b[38;5;28;43;01mTrue\u001b[39;49;00m\u001b[43m)\u001b[49m\n\u001b[0;32m    222\u001b[0m dx \u001b[38;5;241m=\u001b[39m dx_reshaped\u001b[38;5;241m.\u001b[39mreshape(x\u001b[38;5;241m.\u001b[39mshape)\n\u001b[0;32m    224\u001b[0m \u001b[38;5;28;01mreturn\u001b[39;00m dx\n",
      "File \u001b[1;32mc:\\Users\\asmi_\\Asmi's Documents\\Academics\\2022-26_UCLA\\2024-25_Junior Year\\W25 - ECE C147\\ECE_C147_DLNN\\venv\\Lib\\site-packages\\numpy\\core\\fromnumeric.py:2313\u001b[0m, in \u001b[0;36msum\u001b[1;34m(a, axis, dtype, out, keepdims, initial, where)\u001b[0m\n\u001b[0;32m   2310\u001b[0m         \u001b[38;5;28;01mreturn\u001b[39;00m out\n\u001b[0;32m   2311\u001b[0m     \u001b[38;5;28;01mreturn\u001b[39;00m res\n\u001b[1;32m-> 2313\u001b[0m \u001b[38;5;28;01mreturn\u001b[39;00m \u001b[43m_wrapreduction\u001b[49m\u001b[43m(\u001b[49m\u001b[43ma\u001b[49m\u001b[43m,\u001b[49m\u001b[43m \u001b[49m\u001b[43mnp\u001b[49m\u001b[38;5;241;43m.\u001b[39;49m\u001b[43madd\u001b[49m\u001b[43m,\u001b[49m\u001b[43m \u001b[49m\u001b[38;5;124;43m'\u001b[39;49m\u001b[38;5;124;43msum\u001b[39;49m\u001b[38;5;124;43m'\u001b[39;49m\u001b[43m,\u001b[49m\u001b[43m \u001b[49m\u001b[43maxis\u001b[49m\u001b[43m,\u001b[49m\u001b[43m \u001b[49m\u001b[43mdtype\u001b[49m\u001b[43m,\u001b[49m\u001b[43m \u001b[49m\u001b[43mout\u001b[49m\u001b[43m,\u001b[49m\u001b[43m \u001b[49m\u001b[43mkeepdims\u001b[49m\u001b[38;5;241;43m=\u001b[39;49m\u001b[43mkeepdims\u001b[49m\u001b[43m,\u001b[49m\n\u001b[0;32m   2314\u001b[0m \u001b[43m                      \u001b[49m\u001b[43minitial\u001b[49m\u001b[38;5;241;43m=\u001b[39;49m\u001b[43minitial\u001b[49m\u001b[43m,\u001b[49m\u001b[43m \u001b[49m\u001b[43mwhere\u001b[49m\u001b[38;5;241;43m=\u001b[39;49m\u001b[43mwhere\u001b[49m\u001b[43m)\u001b[49m\n",
      "File \u001b[1;32mc:\\Users\\asmi_\\Asmi's Documents\\Academics\\2022-26_UCLA\\2024-25_Junior Year\\W25 - ECE C147\\ECE_C147_DLNN\\venv\\Lib\\site-packages\\numpy\\core\\fromnumeric.py:88\u001b[0m, in \u001b[0;36m_wrapreduction\u001b[1;34m(obj, ufunc, method, axis, dtype, out, **kwargs)\u001b[0m\n\u001b[0;32m     85\u001b[0m         \u001b[38;5;28;01melse\u001b[39;00m:\n\u001b[0;32m     86\u001b[0m             \u001b[38;5;28;01mreturn\u001b[39;00m reduction(axis\u001b[38;5;241m=\u001b[39maxis, out\u001b[38;5;241m=\u001b[39mout, \u001b[38;5;241m*\u001b[39m\u001b[38;5;241m*\u001b[39mpasskwargs)\n\u001b[1;32m---> 88\u001b[0m \u001b[38;5;28;01mreturn\u001b[39;00m \u001b[43mufunc\u001b[49m\u001b[38;5;241;43m.\u001b[39;49m\u001b[43mreduce\u001b[49m\u001b[43m(\u001b[49m\u001b[43mobj\u001b[49m\u001b[43m,\u001b[49m\u001b[43m \u001b[49m\u001b[43maxis\u001b[49m\u001b[43m,\u001b[49m\u001b[43m \u001b[49m\u001b[43mdtype\u001b[49m\u001b[43m,\u001b[49m\u001b[43m \u001b[49m\u001b[43mout\u001b[49m\u001b[43m,\u001b[49m\u001b[43m \u001b[49m\u001b[38;5;241;43m*\u001b[39;49m\u001b[38;5;241;43m*\u001b[39;49m\u001b[43mpasskwargs\u001b[49m\u001b[43m)\u001b[49m\n",
      "\u001b[1;31mKeyboardInterrupt\u001b[0m: "
     ]
    }
   ],
   "source": [
    "# ================================================================ #\n",
    "# YOUR CODE HERE:\n",
    "#   Implement a CNN to achieve greater than 65% validation accuracy\n",
    "#   on CIFAR-10.\n",
    "# ================================================================ #\n",
    "np.random.seed(0)\n",
    "model = ThreeLayerConvNet(weight_scale=0.001, hidden_dim=300, reg=0.02, filter_size=3, num_filters=15)\n",
    "\n",
    "solver = Solver(model, data,\n",
    "                num_epochs=5, batch_size=100,\n",
    "                update_rule='adam',\n",
    "                optim_config={\n",
    "                  'learning_rate': 534e-6,\n",
    "                },\n",
    "                verbose=True, print_every=200, lr_decay=0.85)\n",
    "solver.train()\n",
    "# ================================================================ #\n",
    "# END YOUR CODE HERE\n",
    "# ================================================================ #\n"
   ]
  },
  {
   "cell_type": "code",
   "execution_count": 11,
   "metadata": {},
   "outputs": [
    {
     "name": "stdout",
     "output_type": "stream",
     "text": [
      "(Iteration 1 / 5880) loss: 2.314150\n",
      "(Epoch 0 / 12) train acc: 0.104000; val_acc: 0.079000\n",
      "(Iteration 201 / 5880) loss: 1.920490\n",
      "(Iteration 401 / 5880) loss: 2.410136\n",
      "(Epoch 1 / 12) train acc: 0.575000; val_acc: 0.562000\n",
      "(Iteration 601 / 5880) loss: 2.694842\n",
      "(Iteration 801 / 5880) loss: 2.865386\n",
      "(Epoch 2 / 12) train acc: 0.654000; val_acc: 0.590000\n",
      "(Iteration 1001 / 5880) loss: 3.193270\n",
      "(Iteration 1201 / 5880) loss: 3.667290\n",
      "(Iteration 1401 / 5880) loss: 3.419380\n",
      "(Epoch 3 / 12) train acc: 0.695000; val_acc: 0.623000\n",
      "(Iteration 1601 / 5880) loss: 3.776262\n",
      "(Iteration 1801 / 5880) loss: 4.064355\n",
      "(Epoch 4 / 12) train acc: 0.781000; val_acc: 0.629000\n",
      "(Iteration 2001 / 5880) loss: 3.843266\n",
      "(Iteration 2201 / 5880) loss: 4.303477\n",
      "(Iteration 2401 / 5880) loss: 4.104686\n",
      "(Epoch 5 / 12) train acc: 0.795000; val_acc: 0.632000\n",
      "(Iteration 2601 / 5880) loss: 4.273639\n",
      "(Iteration 2801 / 5880) loss: 4.612196\n",
      "(Epoch 6 / 12) train acc: 0.807000; val_acc: 0.632000\n",
      "(Iteration 3001 / 5880) loss: 4.463053\n",
      "(Iteration 3201 / 5880) loss: 4.641518\n",
      "(Iteration 3401 / 5880) loss: 4.738117\n",
      "(Epoch 7 / 12) train acc: 0.869000; val_acc: 0.660000\n",
      "(Iteration 3601 / 5880) loss: 4.783412\n",
      "(Iteration 3801 / 5880) loss: 4.804132\n",
      "(Epoch 8 / 12) train acc: 0.889000; val_acc: 0.668000\n",
      "(Iteration 4001 / 5880) loss: 4.699738\n",
      "(Iteration 4201 / 5880) loss: 4.855054\n",
      "(Iteration 4401 / 5880) loss: 4.877457\n",
      "(Epoch 9 / 12) train acc: 0.909000; val_acc: 0.643000\n",
      "(Iteration 4601 / 5880) loss: 4.723342\n",
      "(Iteration 4801 / 5880) loss: 4.944689\n",
      "(Epoch 10 / 12) train acc: 0.907000; val_acc: 0.662000\n",
      "(Iteration 5001 / 5880) loss: 4.818194\n",
      "(Iteration 5201 / 5880) loss: 4.954558\n",
      "(Epoch 11 / 12) train acc: 0.928000; val_acc: 0.646000\n",
      "(Iteration 5401 / 5880) loss: 4.907220\n",
      "(Iteration 5601 / 5880) loss: 4.938069\n",
      "(Iteration 5801 / 5880) loss: 4.946041\n",
      "(Epoch 12 / 12) train acc: 0.958000; val_acc: 0.658000\n"
     ]
    }
   ],
   "source": [
    "# ================================================================ #\n",
    "# YOUR CODE HERE:\n",
    "#   Implement a CNN to achieve greater than 65% validation accuracy\n",
    "#   on CIFAR-10.\n",
    "# ================================================================ #\n",
    "np.random.seed(0)\n",
    "model = ThreeLayerConvNet(weight_scale=0.001, hidden_dim=300, reg=0.02, filter_size=3, num_filters=15)\n",
    "\n",
    "solver = Solver(model, data,\n",
    "                num_epochs=12, batch_size=100,\n",
    "                update_rule='adam',\n",
    "                optim_config={\n",
    "                  'learning_rate': 534e-6,\n",
    "                },\n",
    "                verbose=True, print_every=200, lr_decay=0.85)\n",
    "solver.train()\n",
    "# ================================================================ #\n",
    "# END YOUR CODE HERE\n",
    "# ================================================================ #\n"
   ]
  }
 ],
 "metadata": {
  "kernelspec": {
   "display_name": "venv",
   "language": "python",
   "name": "python3"
  },
  "language_info": {
   "codemirror_mode": {
    "name": "ipython",
    "version": 3
   },
   "file_extension": ".py",
   "mimetype": "text/x-python",
   "name": "python",
   "nbconvert_exporter": "python",
   "pygments_lexer": "ipython3",
   "version": "3.11.9"
  }
 },
 "nbformat": 4,
 "nbformat_minor": 2
}
